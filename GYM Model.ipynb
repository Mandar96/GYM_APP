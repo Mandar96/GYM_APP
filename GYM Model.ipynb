{
 "cells": [
  {
   "cell_type": "code",
   "execution_count": 1,
   "id": "419796a1",
   "metadata": {},
   "outputs": [],
   "source": [
    "import pandas as pd\n",
    "import numpy as np\n",
    "from sklearn import datasets\n",
    "from sklearn import metrics\n",
    "from sklearn.linear_model import LogisticRegression\n",
    "from sklearn.ensemble import RandomForestClassifier\n",
    "from sklearn.preprocessing import LabelEncoder"
   ]
  },
  {
   "cell_type": "code",
   "execution_count": 53,
   "id": "be45319e",
   "metadata": {},
   "outputs": [],
   "source": [
    "data = pd.read_excel(r'D:\\Data_Science\\DS_Files\\dataGYM.xlsx')"
   ]
  },
  {
   "cell_type": "code",
   "execution_count": 54,
   "id": "da004b35",
   "metadata": {},
   "outputs": [
    {
     "data": {
      "text/html": [
       "<div>\n",
       "<style scoped>\n",
       "    .dataframe tbody tr th:only-of-type {\n",
       "        vertical-align: middle;\n",
       "    }\n",
       "\n",
       "    .dataframe tbody tr th {\n",
       "        vertical-align: top;\n",
       "    }\n",
       "\n",
       "    .dataframe thead th {\n",
       "        text-align: right;\n",
       "    }\n",
       "</style>\n",
       "<table border=\"1\" class=\"dataframe\">\n",
       "  <thead>\n",
       "    <tr style=\"text-align: right;\">\n",
       "      <th></th>\n",
       "      <th>Age</th>\n",
       "      <th>Height</th>\n",
       "      <th>weight</th>\n",
       "      <th>BMI</th>\n",
       "      <th>Class</th>\n",
       "      <th>Prediction</th>\n",
       "    </tr>\n",
       "  </thead>\n",
       "  <tbody>\n",
       "    <tr>\n",
       "      <th>0</th>\n",
       "      <td>54</td>\n",
       "      <td>4.1</td>\n",
       "      <td>86</td>\n",
       "      <td>40</td>\n",
       "      <td>Extremely obese</td>\n",
       "      <td>Extremely obese--normal exercise+yoga+heavy di...</td>\n",
       "    </tr>\n",
       "    <tr>\n",
       "      <th>1</th>\n",
       "      <td>53</td>\n",
       "      <td>4.1</td>\n",
       "      <td>91</td>\n",
       "      <td>42</td>\n",
       "      <td>Extremely obese</td>\n",
       "      <td>Extremely obese--normal exercise+yoga+heavy di...</td>\n",
       "    </tr>\n",
       "    <tr>\n",
       "      <th>2</th>\n",
       "      <td>27</td>\n",
       "      <td>4.1</td>\n",
       "      <td>95</td>\n",
       "      <td>44</td>\n",
       "      <td>Extremely obese</td>\n",
       "      <td>Extremely obese--normal exercise+yoga+heavy di...</td>\n",
       "    </tr>\n",
       "    <tr>\n",
       "      <th>3</th>\n",
       "      <td>45</td>\n",
       "      <td>4.1</td>\n",
       "      <td>100</td>\n",
       "      <td>46</td>\n",
       "      <td>Extremely obese</td>\n",
       "      <td>Extremely obese--normal exercise+yoga+heavy di...</td>\n",
       "    </tr>\n",
       "    <tr>\n",
       "      <th>4</th>\n",
       "      <td>41</td>\n",
       "      <td>4.1</td>\n",
       "      <td>104</td>\n",
       "      <td>48</td>\n",
       "      <td>Extremely obese</td>\n",
       "      <td>Extremely obese--normal exercise+yoga+heavy di...</td>\n",
       "    </tr>\n",
       "  </tbody>\n",
       "</table>\n",
       "</div>"
      ],
      "text/plain": [
       "   Age  Height  weight  BMI            Class  \\\n",
       "0   54     4.1      86   40  Extremely obese   \n",
       "1   53     4.1      91   42  Extremely obese   \n",
       "2   27     4.1      95   44  Extremely obese   \n",
       "3   45     4.1     100   46  Extremely obese   \n",
       "4   41     4.1     104   48  Extremely obese   \n",
       "\n",
       "                                          Prediction  \n",
       "0  Extremely obese--normal exercise+yoga+heavy di...  \n",
       "1  Extremely obese--normal exercise+yoga+heavy di...  \n",
       "2  Extremely obese--normal exercise+yoga+heavy di...  \n",
       "3  Extremely obese--normal exercise+yoga+heavy di...  \n",
       "4  Extremely obese--normal exercise+yoga+heavy di...  "
      ]
     },
     "execution_count": 54,
     "metadata": {},
     "output_type": "execute_result"
    }
   ],
   "source": [
    "data.head()"
   ]
  },
  {
   "cell_type": "code",
   "execution_count": 55,
   "id": "e60c2637",
   "metadata": {},
   "outputs": [],
   "source": [
    "df = data.copy()\n",
    "del df['BMI']\n",
    "del df['Class']\n",
    "label_encoder = LabelEncoder()\n",
    "df['Prediction'] = label_encoder.fit_transform(df['Prediction'])"
   ]
  },
  {
   "cell_type": "code",
   "execution_count": 56,
   "id": "a7cb5b09",
   "metadata": {},
   "outputs": [],
   "source": [
    "X = df.iloc[:,:-1]\n",
    "y = df.iloc[:,-1]"
   ]
  },
  {
   "cell_type": "code",
   "execution_count": 57,
   "id": "1995fee2",
   "metadata": {},
   "outputs": [
    {
     "name": "stdout",
     "output_type": "stream",
     "text": [
      "RandomForestClassifier(n_estimators=20)\n"
     ]
    }
   ],
   "source": [
    "from sklearn.model_selection import train_test_split\n",
    "\n",
    "X_train, X_test, y_train, y_test = train_test_split(X,y, test_size=0.2, random_state=0)\n",
    "\n",
    "model_GYM = RandomForestClassifier(n_estimators=20)\n",
    "\n",
    "model_GYM.fit(X_train, y_train)\n",
    "\n",
    "print(model_GYM)"
   ]
  },
  {
   "cell_type": "code",
   "execution_count": 59,
   "id": "21dd9998",
   "metadata": {},
   "outputs": [],
   "source": [
    "# make predictions\n",
    "expected = y_test\n",
    "predicted = model_GYM.predict(X_test)"
   ]
  },
  {
   "cell_type": "code",
   "execution_count": 61,
   "id": "ff756b9d",
   "metadata": {},
   "outputs": [
    {
     "name": "stdout",
     "output_type": "stream",
     "text": [
      "              precision    recall  f1-score   support\n",
      "\n",
      "           0       0.81      0.97      0.89        36\n",
      "           1       0.72      0.84      0.77        49\n",
      "           2       0.82      0.79      0.81        53\n",
      "           3       0.86      0.65      0.74        46\n",
      "           4       0.90      0.87      0.88        52\n",
      "\n",
      "    accuracy                           0.82       236\n",
      "   macro avg       0.82      0.82      0.82       236\n",
      "weighted avg       0.82      0.82      0.82       236\n",
      "\n",
      "[[35  0  1  0  0]\n",
      " [ 0 41  1  2  5]\n",
      " [ 8  0 42  3  0]\n",
      " [ 0  9  7 30  0]\n",
      " [ 0  7  0  0 45]]\n"
     ]
    }
   ],
   "source": [
    "# summarize the fit of the model\n",
    "#Correction\n",
    "print(metrics.classification_report(expected, predicted))\n",
    "print(metrics.confusion_matrix(expected, predicted))"
   ]
  },
  {
   "cell_type": "code",
   "execution_count": 62,
   "id": "44a3be0f",
   "metadata": {},
   "outputs": [
    {
     "name": "stdout",
     "output_type": "stream",
     "text": [
      "[1]\n"
     ]
    }
   ],
   "source": [
    "import pickle\n",
    "\n",
    "pickle.dump(model_GYM, open(\"Model_GYM.pkl\", \"wb\"))\n",
    "\n",
    "model = pickle.load(open(\"Model_GYM.pkl\", \"rb\"))\n",
    "\n",
    "print(model.predict([[40,5.6,70]]))"
   ]
  },
  {
   "cell_type": "code",
   "execution_count": null,
   "id": "2e5a6d64",
   "metadata": {},
   "outputs": [],
   "source": []
  },
  {
   "cell_type": "code",
   "execution_count": null,
   "id": "e7fd3e5d",
   "metadata": {},
   "outputs": [],
   "source": []
  },
  {
   "cell_type": "code",
   "execution_count": null,
   "id": "6d8f44a2",
   "metadata": {},
   "outputs": [],
   "source": []
  }
 ],
 "metadata": {
  "kernelspec": {
   "display_name": "Python 3",
   "language": "python",
   "name": "python3"
  },
  "language_info": {
   "codemirror_mode": {
    "name": "ipython",
    "version": 3
   },
   "file_extension": ".py",
   "mimetype": "text/x-python",
   "name": "python",
   "nbconvert_exporter": "python",
   "pygments_lexer": "ipython3",
   "version": "3.8.8"
  }
 },
 "nbformat": 4,
 "nbformat_minor": 5
}
